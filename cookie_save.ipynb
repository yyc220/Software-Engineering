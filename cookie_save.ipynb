{
 "cells": [
  {
   "cell_type": "markdown",
   "metadata": {},
   "source": [
    "# 保存cookie"
   ]
  },
  {
   "cell_type": "code",
   "execution_count": null,
   "metadata": {},
   "outputs": [],
   "source": [
    "# 保存cookie\n",
    "from selenium import webdriver\n",
    "\n",
    "# 创建 Selenium WebDriver 实例\n",
    "browser = webdriver.Chrome()\n",
    "\n",
    "# 打开目标网站并进行登录操作\n",
    "myurl = \"https://www.luogu.com.cn/auth/login\"\n",
    "browser.get(myurl)  # 打开目标网站\n",
    "browser.maximize_window()  # 将浏览器全屏"
   ]
  },
  {
   "cell_type": "code",
   "execution_count": null,
   "metadata": {},
   "outputs": [],
   "source": [
    "# 获取当前页面的所有 Cookie\n",
    "cookies = browser.get_cookies()\n",
    "\n",
    "# 关闭浏览器\n",
    "browser.quit()\n",
    "\n",
    "# 将 Cookie 写入文件\n",
    "with open('cookies.txt', 'w') as f:\n",
    "    for cookie in cookies:\n",
    "        f.write(f\"{cookie['name']}={cookie['value']}\\n\")"
   ]
  }
 ],
 "metadata": {
  "kernelspec": {
   "display_name": "Python 3 (ipykernel)",
   "language": "python",
   "name": "python3"
  },
  "language_info": {
   "codemirror_mode": {
    "name": "ipython",
    "version": 3
   },
   "file_extension": ".py",
   "mimetype": "text/x-python",
   "name": "python",
   "nbconvert_exporter": "python",
   "pygments_lexer": "ipython3",
   "version": "3.9.16"
  },
  "toc": {
   "base_numbering": 1,
   "nav_menu": {},
   "number_sections": true,
   "sideBar": true,
   "skip_h1_title": false,
   "title_cell": "Table of Contents",
   "title_sidebar": "Contents",
   "toc_cell": false,
   "toc_position": {},
   "toc_section_display": true,
   "toc_window_display": false
  }
 },
 "nbformat": 4,
 "nbformat_minor": 2
}
